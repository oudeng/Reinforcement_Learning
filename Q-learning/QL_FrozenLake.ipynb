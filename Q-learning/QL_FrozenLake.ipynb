{
 "cells": [
  {
   "cell_type": "markdown",
   "id": "1c6922f1-4dda-47a3-b2f0-c97bca157ec3",
   "metadata": {
    "tags": []
   },
   "source": [
    "## Q learning demo of Frozen Lake Game Solution\n",
    "Ou Deng on Nov 19,2022  \n",
    "ref: https://space.bilibili.com/1119972180/channel/seriesdetail?sid=2515026"
   ]
  },
  {
   "cell_type": "markdown",
   "id": "3b8f0c79-863a-4db1-8206-2838ece224e8",
   "metadata": {},
   "source": [
    "### What's [Q-learning](https://en.wikipedia.org/wiki/Q-learning){:target=\"_blank\"}"
   ]
  },
  {
   "cell_type": "markdown",
   "id": "e663e07b-2231-40dc-80fa-24d8b3a45f9e",
   "metadata": {},
   "source": [
    "tips: commend+/: rem line(s) in Jupyter"
   ]
  },
  {
   "cell_type": "markdown",
   "id": "13a22e71-9b16-447f-b31f-c33f430afded",
   "metadata": {},
   "source": [
    "- GYM\n",
    "- Bellman equation\n"
   ]
  },
  {
   "cell_type": "markdown",
   "id": "ed2b5ece-a74f-4125-9e06-6506d3636ac8",
   "metadata": {},
   "source": [
    "### 1.GYM"
   ]
  },
  {
   "cell_type": "markdown",
   "id": "f16d527a-193f-4ec4-8888-d074c854a1a7",
   "metadata": {},
   "source": [
    "https://www.gymlibrary.dev/  \n",
    "https://www.gymlibrary.dev/environments/toy_text/frozen_lake/  \n"
   ]
  },
  {
   "cell_type": "code",
   "execution_count": 1,
   "id": "42435728-ba6c-4df7-a7be-82d612d28f05",
   "metadata": {},
   "outputs": [
    {
     "name": "stdout",
     "output_type": "stream",
     "text": [
      "Collecting gym\n",
      "  Downloading gym-0.26.2.tar.gz (721 kB)\n",
      "\u001b[K     |████████████████████████████████| 721 kB 13.3 MB/s eta 0:00:01\n",
      "\u001b[?25h  Installing build dependencies ... \u001b[?25ldone\n",
      "\u001b[?25h  Getting requirements to build wheel ... \u001b[?25ldone\n",
      "\u001b[?25h    Preparing wheel metadata ... \u001b[?25ldone\n",
      "\u001b[?25hRequirement already satisfied: numpy>=1.18.0 in /opt/anaconda3/lib/python3.9/site-packages (from gym) (1.21.5)\n",
      "Requirement already satisfied: importlib-metadata>=4.8.0 in /opt/anaconda3/lib/python3.9/site-packages (from gym) (4.11.3)\n",
      "Requirement already satisfied: cloudpickle>=1.2.0 in /opt/anaconda3/lib/python3.9/site-packages (from gym) (2.0.0)\n",
      "Collecting gym-notices>=0.0.4\n",
      "  Downloading gym_notices-0.0.8-py3-none-any.whl (3.0 kB)\n",
      "Requirement already satisfied: zipp>=0.5 in /opt/anaconda3/lib/python3.9/site-packages (from importlib-metadata>=4.8.0->gym) (3.7.0)\n",
      "Building wheels for collected packages: gym\n",
      "  Building wheel for gym (PEP 517) ... \u001b[?25ldone\n",
      "\u001b[?25h  Created wheel for gym: filename=gym-0.26.2-py3-none-any.whl size=827633 sha256=bd4d4999eedc8918a7809c6de06ca600b7109f458edccb88b9c017b3085526ac\n",
      "  Stored in directory: /Users/deng/Library/Caches/pip/wheels/af/2b/30/5e78b8b9599f2a2286a582b8da80594f654bf0e18d825a4405\n",
      "Successfully built gym\n",
      "Installing collected packages: gym-notices, gym\n",
      "Successfully installed gym-0.26.2 gym-notices-0.0.8\n"
     ]
    }
   ],
   "source": [
    "#!pip install gym"
   ]
  },
  {
   "cell_type": "markdown",
   "id": "1575294d-e35b-4452-8eea-52df15060d76",
   "metadata": {},
   "source": [
    "Installation message of ```pip install gym```\n",
    "> Successfully built gym  \n",
    "Installing collected packages: gym-notices, gym  \n",
    "Successfully installed gym-0.26.2 gym-notices-0.0.8"
   ]
  },
  {
   "cell_type": "code",
   "execution_count": 3,
   "id": "3e5da380-791e-40c6-93f7-4cadd144c685",
   "metadata": {},
   "outputs": [],
   "source": [
    "import numpy as np\n",
    "import matplotlib.pyplot as plt"
   ]
  },
  {
   "cell_type": "code",
   "execution_count": 276,
   "id": "54ecd18b-8e09-41ac-a82b-14e586d27194",
   "metadata": {},
   "outputs": [],
   "source": [
    "import gym\n",
    "desc=[\"SFFF\", \"FHFH\", \"FFFH\", \"HFFG\"]\n",
    "env = gym.make('FrozenLake-v1', desc=desc, map_name=\"4x4\", is_slippery=True)\n",
    "state = env.reset()"
   ]
  },
  {
   "cell_type": "code",
   "execution_count": 277,
   "id": "8453394a-cda1-4ea3-ba48-9b527d34dff5",
   "metadata": {},
   "outputs": [
    {
     "data": {
      "text/plain": [
       "gym.wrappers.time_limit.TimeLimit"
      ]
     },
     "execution_count": 277,
     "metadata": {},
     "output_type": "execute_result"
    }
   ],
   "source": [
    "type(env)"
   ]
  },
  {
   "cell_type": "code",
   "execution_count": 281,
   "id": "1ed18db1-106a-4e2c-a314-053611b14c0a",
   "metadata": {},
   "outputs": [
    {
     "data": {
      "text/plain": [
       "(0, {'prob': 1})"
      ]
     },
     "execution_count": 281,
     "metadata": {},
     "output_type": "execute_result"
    }
   ],
   "source": [
    "state"
   ]
  },
  {
   "cell_type": "code",
   "execution_count": 278,
   "id": "74dfec3f-8e37-4739-962b-14f47d6baa2b",
   "metadata": {},
   "outputs": [
    {
     "data": {
      "text/plain": [
       "tuple"
      ]
     },
     "execution_count": 278,
     "metadata": {},
     "output_type": "execute_result"
    }
   ],
   "source": [
    "type(state)"
   ]
  },
  {
   "cell_type": "code",
   "execution_count": 279,
   "id": "5e1d85f3-5e79-4872-9742-35b66b7571c7",
   "metadata": {},
   "outputs": [],
   "source": [
    "X = list(state)\n",
    "# Tuple is uneditable.\n",
    "# Transfer to list and only take the no.0 value which is the state number in env initiao setting."
   ]
  },
  {
   "cell_type": "code",
   "execution_count": 280,
   "id": "4c9a2ecd-ddaa-4cba-a07f-c052ea2e7152",
   "metadata": {},
   "outputs": [
    {
     "data": {
      "text/plain": [
       "0"
      ]
     },
     "execution_count": 280,
     "metadata": {},
     "output_type": "execute_result"
    }
   ],
   "source": [
    "X[0]"
   ]
  },
  {
   "cell_type": "code",
   "execution_count": 61,
   "id": "35302fd3-f890-4063-80d6-e4332aa4fd62",
   "metadata": {},
   "outputs": [],
   "source": [
    "# Visualize env (not successful for env.render())\n"
   ]
  },
  {
   "cell_type": "code",
   "execution_count": 66,
   "id": "b5004c0b-d60e-4f3b-a6b9-ea0db5df2e0f",
   "metadata": {},
   "outputs": [
    {
     "data": {
      "text/plain": [
       "(0, 0.0, False, False, {'prob': 0.3333333333333333})"
      ]
     },
     "execution_count": 66,
     "metadata": {},
     "output_type": "execute_result"
    }
   ],
   "source": [
    "# Action on the FrozenLake\n",
    "# 0: LEFT; 1: DOWN; 2: RIGHT; 3: UP\n",
    "env.reset()\n",
    "env.step(2) "
   ]
  },
  {
   "cell_type": "code",
   "execution_count": null,
   "id": "1433625f-f19a-46b4-a844-14a682568f8c",
   "metadata": {},
   "outputs": [],
   "source": []
  },
  {
   "cell_type": "markdown",
   "id": "205c75b3-4d3b-45fa-8141-ad14745c25ad",
   "metadata": {},
   "source": [
    "## Bellman equation"
   ]
  },
  {
   "cell_type": "markdown",
   "id": "b149406d-cf26-4f85-8cca-3392aabba250",
   "metadata": {},
   "source": [
    "$$Q(S_t, a_t) \\leftarrow Q(S_t, a_t)+\\alpha [r_{t+1}+\\lambda \\sideset{}{}{max}_a (S_t,a)-Q(S_t, a_t))]$$"
   ]
  },
  {
   "cell_type": "markdown",
   "id": "f563d475-0c7b-4e00-9465-c3d6c9e70d5f",
   "metadata": {},
   "source": [
    "\\begin{align}\n",
    "  Q:&\\text{quality, Q-table} \\\\\n",
    "  S:&\\text{state}\\\\\n",
    "  a:&\\text{action}\\\\\n",
    "  \\alpha:&\\text{learning rate} \\\\\n",
    "  r:&\\text{reward} \\\\\n",
    "  \\lambda:&\\text{discount, for blancing the short-term reward and long-term reward.}\\\\\n",
    "\\end{align}"
   ]
  },
  {
   "cell_type": "markdown",
   "id": "aac401a6-c20e-4e74-b415-c0d292b42653",
   "metadata": {},
   "source": [
    "More detailed info: https://towardsdatascience.com/the-bellman-equation-59258a0d3fa7"
   ]
  },
  {
   "cell_type": "markdown",
   "id": "ed005c58-d2f7-4438-87bb-0b5a32116521",
   "metadata": {},
   "source": [
    "### 4x4 map (Perfect)"
   ]
  },
  {
   "cell_type": "code",
   "execution_count": 250,
   "id": "22de7757-86a1-43f5-b944-be734ac505ae",
   "metadata": {},
   "outputs": [],
   "source": [
    "import gym\n",
    "desc=[\"SFFF\", \"FHFH\", \"FFFH\", \"HFFG\"] #S:start; F:Frozen surface; H:Hole; G:Goal.\n",
    "env = gym.make('FrozenLake-v1', desc=desc, map_name=\"4x4\", is_slippery=True)\n",
    "state = env.reset()\n",
    "\n",
    "import numpy as np\n",
    "q_table = np.zeros((16,4)) #Initialize the Q-table."
   ]
  },
  {
   "cell_type": "code",
   "execution_count": null,
   "id": "7be0a5ec-174f-4717-945e-507cafeac938",
   "metadata": {},
   "outputs": [],
   "source": []
  },
  {
   "cell_type": "markdown",
   "id": "42668153-c0dc-4c91-a0aa-89369641e387",
   "metadata": {},
   "source": [
    "### 8x8 map (Not bad)"
   ]
  },
  {
   "cell_type": "code",
   "execution_count": 475,
   "id": "9926d8d5-e844-41cd-af1f-767995f38bcc",
   "metadata": {},
   "outputs": [],
   "source": [
    "import gym\n",
    "desc=[\"SFFFFFFF\",\"FFFFFFFF\",\"FFFHFFFF\",\"FFFFFHFF\",\"FFFHFFFF\",\"FHHFFFHF\",\"FHFFHFHF\",\"FFFHFFFG\",]\n",
    "env = gym.make('FrozenLake-v1', desc=desc, map_name=\"8x8\", is_slippery=True)\n",
    "state = env.reset()\n",
    "\n",
    "import numpy as np\n",
    "q_table = np.zeros((64,4)) #Initialize the Q-table.\n",
    "\n",
    "import random\n",
    "random.seed(2022)\n",
    "\n",
    "N = 2000\n",
    "alpha = 0.5\n",
    "lam = 0.9\n",
    "e1 = 0.99\n",
    "e2 = 0.9995"
   ]
  },
  {
   "cell_type": "markdown",
   "id": "e25b8297-fd81-4851-9cd8-f1e4a1bcb3a9",
   "metadata": {},
   "source": [
    "### 5x5 map (Good)"
   ]
  },
  {
   "cell_type": "code",
   "execution_count": 1,
   "id": "d9868df3-4eec-40cd-a08b-b1ec20ac114f",
   "metadata": {},
   "outputs": [],
   "source": [
    "import gym\n",
    "desc=[\n",
    "    \"SFHFF\",\n",
    "    \"FFFFH\",\n",
    "    \"HFFFF\",\n",
    "    \"FFHFG\"] #S:start; F:Frozen surface; H:Hole; G:Goal.\n",
    "env = gym.make('FrozenLake-v1', desc=desc, map_name=\"5x5\", is_slippery=True)\n",
    "state = env.reset()\n",
    "\n",
    "import numpy as np\n",
    "q_table = np.zeros((25,4)) #Initialize the Q-table.\n",
    "\n",
    "import random\n",
    "random.seed(2022)\n",
    "\n",
    "N = 1000\n",
    "alpha = 0.5\n",
    "lam = 0.9\n",
    "e1 = 0.99\n",
    "e2 = 0.999"
   ]
  },
  {
   "cell_type": "code",
   "execution_count": null,
   "id": "0b178fb3-a67d-4301-af3f-4856468c28d9",
   "metadata": {},
   "outputs": [],
   "source": []
  },
  {
   "cell_type": "code",
   "execution_count": 2,
   "id": "d63608d7-8581-4385-b34b-44c03a8e0688",
   "metadata": {},
   "outputs": [
    {
     "name": "stdout",
     "output_type": "stream",
     "text": [
      "Train times, # 1 :the Success ratio of S to G: 589 / 1000 = 58.9%\n",
      "e1= 0.36401847052325514 ; np.sum(q_table)= 9.042801265901277\n",
      "Train times, # 2 :the Success ratio of S to G: 465 / 1000 = 46.5%\n",
      "e1= 0.1338479261435251 ; np.sum(q_table)= 7.777293503436477\n",
      "Train times, # 3 :the Success ratio of S to G: 131 / 1000 = 13.1%\n",
      "e1= 0.04921527005805615 ; np.sum(q_table)= 6.970125349419392\n",
      "Train times, # 4 :the Success ratio of S to G: 859 / 1000 = 85.9%\n",
      "e1= 0.018096229629214665 ; np.sum(q_table)= 6.579618289274168\n",
      "Train times, # 5 :the Success ratio of S to G: 866 / 1000 = 86.6%\n",
      "e1= 0.006653900840266982 ; np.sum(q_table)= 6.0586509422995976\n",
      "Train times, # 6 :the Success ratio of S to G: 853 / 1000 = 85.3%\n",
      "e1= 0.0024466088958458427 ; np.sum(q_table)= 5.838969928199119\n",
      "Train times, # 7 :the Success ratio of S to G: 869 / 1000 = 86.9%\n",
      "e1= 0.0008996068972064574 ; np.sum(q_table)= 6.235407413164911\n",
      "Train times, # 8 :the Success ratio of S to G: 861 / 1000 = 86.1%\n",
      "e1= 0.000330781340195217 ; np.sum(q_table)= 5.728155012054335\n",
      "Train times, # 9 :the Success ratio of S to G: 852 / 1000 = 85.2%\n",
      "e1= 0.00012162678538938918 ; np.sum(q_table)= 5.892782545222895\n",
      "Train times, # 10 :the Success ratio of S to G: 875 / 1000 = 87.5%\n",
      "e1= 4.472161251727821e-05 ; np.sum(q_table)= 5.418880447636718\n"
     ]
    },
    {
     "data": {
      "text/plain": [
       "array([[1.99825901e-02, 6.11784677e-02, 2.04316137e-02, 2.05599276e-02],\n",
       "       [1.07724872e-01, 8.20219602e-03, 3.33733570e-03, 9.61150664e-03],\n",
       "       [0.00000000e+00, 0.00000000e+00, 0.00000000e+00, 0.00000000e+00],\n",
       "       [6.98608292e-03, 1.04375560e-02, 1.19561765e-01, 6.15186997e-03],\n",
       "       [8.39507679e-03, 7.06450429e-03, 4.82442825e-03, 8.86413713e-02],\n",
       "       [1.14620318e-03, 1.10282106e-02, 5.21967587e-03, 7.15751520e-02],\n",
       "       [2.67216862e-02, 1.77482758e-02, 1.50691942e-01, 2.71848310e-02],\n",
       "       [1.69777138e-02, 1.95565033e-01, 4.16186833e-02, 4.00623393e-02],\n",
       "       [2.23437918e-01, 1.36667497e-02, 2.51773888e-02, 2.24540136e-02],\n",
       "       [0.00000000e+00, 0.00000000e+00, 0.00000000e+00, 0.00000000e+00],\n",
       "       [0.00000000e+00, 0.00000000e+00, 0.00000000e+00, 0.00000000e+00],\n",
       "       [1.07766256e-02, 1.81741828e-02, 1.76213297e-01, 5.19596435e-03],\n",
       "       [1.49286476e-02, 5.31560393e-02, 4.21280339e-03, 3.86604034e-01],\n",
       "       [1.15473267e-01, 1.17950128e-01, 4.07922929e-01, 1.26067907e-01],\n",
       "       [4.33988511e-02, 9.05255249e-01, 2.18491566e-02, 1.44494682e-01],\n",
       "       [1.53806830e-03, 6.35823963e-02, 4.78025631e-04, 6.85957546e-03],\n",
       "       [1.06577570e-01, 7.74606783e-03, 2.93088451e-03, 5.91383996e-03],\n",
       "       [0.00000000e+00, 0.00000000e+00, 0.00000000e+00, 0.00000000e+00],\n",
       "       [1.56724030e-01, 1.58069402e-01, 7.24390261e-01, 2.39029585e-01],\n",
       "       [0.00000000e+00, 0.00000000e+00, 0.00000000e+00, 0.00000000e+00],\n",
       "       [0.00000000e+00, 0.00000000e+00, 0.00000000e+00, 0.00000000e+00],\n",
       "       [0.00000000e+00, 0.00000000e+00, 0.00000000e+00, 0.00000000e+00],\n",
       "       [0.00000000e+00, 0.00000000e+00, 0.00000000e+00, 0.00000000e+00],\n",
       "       [0.00000000e+00, 0.00000000e+00, 0.00000000e+00, 0.00000000e+00],\n",
       "       [0.00000000e+00, 0.00000000e+00, 0.00000000e+00, 0.00000000e+00]])"
      ]
     },
     "execution_count": 2,
     "metadata": {},
     "output_type": "execute_result"
    }
   ],
   "source": [
    "\n",
    "train_times=10 # If train more times, the Q-table might be add to the bigger value causing bed result.\n",
    "for k in range(train_times):\n",
    "    for i in range(N):\n",
    "        done = False\n",
    "        state0 = env.reset()\n",
    "        state = list(state0)[0]\n",
    "        e1 *= e2\n",
    "        #e1 -= 0.0001\n",
    "        while not done:\n",
    "            if random.random() < e1 or np.sum(q_table) == 0:\n",
    "                action = random.randint(0,3) #move direction: Left-Down-Right-Up\n",
    "            else:\n",
    "                action = np.argmax(q_table[state,:])\n",
    "                \n",
    "            new_state, reward, safe, done, info = env.step(action)\n",
    "\n",
    "            # Bellman equation\n",
    "            q_table[state, action] = q_table[state, action] + \\\n",
    "            alpha * (reward + lam * np.max(q_table[new_state,:]) - q_table[state, action])\n",
    "\n",
    "            state = new_state\n",
    "            # if q_table[state, action] >0:\n",
    "            #    print(state, action, q_table[state, action])\n",
    "\n",
    "    # Evaluate \n",
    "    success_times = 0\n",
    "    for j in range(N):\n",
    "        done = False\n",
    "        state = env.reset()\n",
    "        state = list(state)[0]\n",
    "        while not done:\n",
    "            action = np.argmax(q_table[state,:])\n",
    "            new_state, reward, safe, done, info = env.step(action)    \n",
    "            state = new_state\n",
    "            if reward == 1:\n",
    "                success_times += 1\n",
    "    print(\"Train times, #\",k+1, \":the Success ratio of S to G:\",\\\n",
    "          success_times,\"/\", N, \"=\", '{:.1f}%'.format(success_times / N * 100))\n",
    "    \n",
    "    print(\"e1=\",e1,\";\",\"np.sum(q_table)=\",np.sum(q_table))\n",
    "\n",
    "q_table # as no hole on the fronzen lake."
   ]
  },
  {
   "cell_type": "code",
   "execution_count": null,
   "id": "92f8fa19-f9a6-4cf4-831c-c19569c387bf",
   "metadata": {},
   "outputs": [],
   "source": []
  },
  {
   "cell_type": "code",
   "execution_count": 3,
   "id": "94d2ec4f-f4bc-48ea-98bc-67f081d51a3d",
   "metadata": {},
   "outputs": [
    {
     "data": {
      "text/plain": [
       "(19, 0, True, True, {'prob': 1.0})"
      ]
     },
     "execution_count": 3,
     "metadata": {},
     "output_type": "execute_result"
    }
   ],
   "source": [
    "new_state, reward, safe, done, info"
   ]
  },
  {
   "cell_type": "code",
   "execution_count": null,
   "id": "63ee6e90-a553-4938-b7f3-6c48e2f2cf9c",
   "metadata": {},
   "outputs": [],
   "source": []
  },
  {
   "cell_type": "markdown",
   "id": "30f51342-40b6-4e68-a2a8-940a2f5a3394",
   "metadata": {},
   "source": [
    "### Result memo"
   ]
  },
  {
   "cell_type": "markdown",
   "id": "48a4f4f3-e9fc-4780-b4ee-0b9b7a43fff6",
   "metadata": {},
   "source": [
    "73.3% after three times training in 4x4 map under the following conditions:  \n",
    "N = 1000  \n",
    "alpha = 0.9  \n",
    "lam = 0.9  \n",
    "e1 = 0.2  \n",
    "e2 = 0.99  \n",
    "\n",
    "Start at 20% random move and the rest follows Q-table."
   ]
  },
  {
   "cell_type": "markdown",
   "id": "687b33aa-fecc-4749-b973-b87028e78051",
   "metadata": {},
   "source": [
    "However, I failed on 8x8 map training even on the successful hyper-parameters of 4x4 map. Uncertain reason.  \n",
    "Back to try from 5x5 map.\n",
    "\n",
    "desc=[\n",
    "    \"SFHFF\",\n",
    "    \"FFFFH\",\n",
    "    \"HFFFF\",\n",
    "    \"FFHFG\"]\n",
    "    \n",
    "N = 10000 # 10k train times  \n",
    "alpha = 0.5  \n",
    "lam = 0.8  \n",
    "e1 = 0.9  \n",
    "e2 = 0.99  \n",
    "\n",
    "Bad(most 0% successful ratio.)\n",
    "\n",
    "Then change e1 to 0.99, and e2 to 0.999. More randomly trails.\n",
    "Works. Best result to 88%. Raise fastly at the beginning. \n",
    "\n",
    "However, few round not stable engough.  \n",
    "Abd some lines, especially the G horizon line, semms challenging to train.\n",
    "\n",
    "The random moves in the first 1000 train times sound good. Otherwise, the results tend to get worse. e.g.: e1 = 0.9 and e2 = 0.9999.\n",
    "\n",
    "Now, we use 5x5 map parameter setting to run 8x8 map. Terrible, the 0% successful ratio.  \n"
   ]
  },
  {
   "cell_type": "markdown",
   "id": "85dfeaa5-0f97-4617-8f77-288f9babaeeb",
   "metadata": {},
   "source": [
    "### Improve result on 8x8 maps\n",
    "\n",
    "Train 10 times under the following parameters:  \n",
    "N = 2000  \n",
    "alpha = 0.5  \n",
    "lam = 0.9  \n",
    "e1 = 0.99  \n",
    "e2 = 0.9995  \n",
    "\n",
    "The result is between **40%-50%**, the details as follows:  \n",
    "\n",
    "\n",
    "Train times, # 1 :the Success ratio of S to G: 861 / 2000 = 43.0%  \n",
    "e1= 0.3641095776245519 ; np.sum(q_table)= 10.221157433044446  \n",
    "Train times, # 2 :the Success ratio of S to G: 211 / 2000 = 10.5%  \n",
    "e1= 0.13391493385649383 ; np.sum(q_table)= 5.8994332121056345  \n",
    "Train times, # 3 :the Success ratio of S to G: 649 / 2000 = 32.5%  \n",
    "e1= 0.049252232327381594 ; np.sum(q_table)= 6.44240765023446  \n",
    "Train times, # 4 :the Success ratio of S to G: 0 / 2000 = 0.0%  \n",
    "e1= 0.018114353040191024 ; np.sum(q_table)= 2.993239018652109  \n",
    "Train times, # 5 :the Success ratio of S to G: 204 / 2000 = 10.2%  \n",
    "e1= 0.00666223175192522 ; np.sum(q_table)= 4.130704359368514  \n",
    "Train times, # 6 :the Success ratio of S to G: 1070 / 2000 = 53.5%  \n",
    "e1= 0.0024502852416468253 ; np.sum(q_table)= 4.194490041588694  \n",
    "Train times, # 7 :the Success ratio of S to G: 953 / 2000 = 47.6%  \n",
    "e1= 0.0009011841660562588 ; np.sum(q_table)= 3.804560389424127  \n",
    "Train times, # 8 :the Success ratio of S to G: 1086 / 2000 = 54.3%  \n",
    "e1= 0.000331444228348159 ; np.sum(q_table)= 3.906513800103143  \n",
    "Train times, # 9 :the Success ratio of S to G: 1047 / 2000 = 52.3%  \n",
    "e1= 0.00012190102827267 ; np.sum(q_table)= 2.214332314198644  \n",
    "Train times, # 10 :the Success ratio of S to G: 853 / 2000 = 42.6%  \n",
    "e1= 4.483366860238418e-05 ; np.sum(q_table)= 2.720206247364254  \n",
    "\n",
    "array([[5.50943857e-04, 3.77459788e-03, 5.48095134e-04, 7.57922637e-04],\n",
    "       [7.66037350e-04, 6.91727817e-04, 4.37279478e-03, 7.17143622e-04],\n",
    "       [9.35400237e-04, 5.37712890e-03, 9.94436218e-04, 1.00571765e-03],\n",
    "       [1.44455997e-03, 1.31561907e-02, 1.50347912e-03, 1.50894275e-03],\n",
    "       [2.13821894e-03, 1.45206912e-02, 2.23034318e-03, 2.27870942e-03],\n",
    "       [3.23885865e-03, 3.47511889e-03, 1.64381522e-02, 3.15667511e-03],\n",
    "       [2.24293690e-02, 4.28615438e-03, 4.29799317e-03, 4.01387118e-03],\n",
    "       [2.01889312e-02, 4.64920040e-03, 4.70335469e-03, 4.66193601e-03],\n",
    "       [5.52267881e-04, 5.55819844e-04, 3.08258115e-03, 5.63964394e-04],\n",
    "       [6.63187784e-04, 6.26676950e-04, 6.61785265e-03, 6.53684555e-04],\n",
    "       [8.87225727e-04, 8.72013140e-04, 8.20403031e-04, 5.87540019e-03],\n",
    "       [1.06172137e-03, 9.71677256e-04, 1.12855966e-03, 7.50141700e-03],\n",
    "       [2.01363655e-03, 1.28910587e-02, 2.25483148e-03, 2.07692365e-03],\n",
    "       [3.53777030e-03, 3.56485917e-03, 2.51001309e-02, 3.09058145e-03],\n",
    "       [4.58312760e-03, 4.38486406e-03, 3.32087391e-02, 4.30840731e-03],\n",
    "       [5.22719864e-03, 5.28025256e-03, 3.90304872e-02, 5.16504253e-03],\n",
    "       [5.20976007e-04, 5.37608148e-04, 5.36691051e-04, 2.88166545e-03],\n",
    "       [5.17739883e-04, 5.53601445e-04, 5.35503516e-04, 4.17491483e-03],\n",
    "       [4.87338107e-03, 1.84402687e-04, 4.79027696e-04, 3.20065003e-04],\n",
    "       [0.00000000e+00, 0.00000000e+00, 0.00000000e+00, 0.00000000e+00],\n",
    "       [6.83640493e-04, 6.69973129e-04, 1.51973352e-02, 1.32581946e-03],\n",
    "       [2.70994342e-03, 2.58117823e-03, 2.34509053e-03, 3.66862473e-02],\n",
    "       [5.11494904e-03, 5.74187255e-03, 6.61244632e-02, 5.61879375e-03],\n",
    "       [7.01686866e-03, 5.38242035e-02, 7.00298490e-03, 7.07799664e-03],\n",
    "       [3.61044016e-04, 3.59477618e-04, 1.60060206e-03, 3.21554573e-04],\n",
    "       [3.53595329e-04, 4.12681048e-04, 3.54795680e-04, 3.42175835e-03],\n",
    "       [2.35557205e-04, 2.54359097e-04, 1.62804290e-04, 1.53234103e-03],\n",
    "       [2.17275587e-05, 2.50927447e-05, 4.50060455e-05, 1.55473276e-03],\n",
    "       [1.88366454e-03, 6.88242512e-05, 2.81054740e-04, 2.14783086e-04],\n",
    "       [0.00000000e+00, 0.00000000e+00, 0.00000000e+00, 0.00000000e+00],\n",
    "       [5.09353792e-03, 4.71622112e-03, 1.06956068e-01, 3.58489310e-03],\n",
    "       [1.04678084e-02, 1.03260268e-02, 8.65931165e-02, 9.27151845e-03],\n",
    "       [2.09940107e-04, 2.31105810e-04, 3.65349498e-04, 6.10957728e-04],\n",
    "       [9.18662572e-05, 7.89943719e-05, 1.04785202e-04, 6.06704292e-04],\n",
    "       [1.52040264e-03, 2.90876870e-05, 5.23079645e-06, 5.71080952e-06],\n",
    "       [0.00000000e+00, 0.00000000e+00, 0.00000000e+00, 0.00000000e+00],\n",
    "       [1.98908096e-04, 3.62419276e-04, 5.47539385e-03, 1.45235310e-04],\n",
    "       [5.84760522e-04, 1.74659664e-02, 5.88866066e-04, 2.66514121e-04],\n",
    "       [1.22999757e-03, 2.09518271e-03, 1.32944465e-03, 1.33154319e-01],\n",
    "       [1.90935527e-02, 1.28826688e-02, 1.04043226e-01, 1.74754979e-02],\n",
    "       [1.21120228e-03, 1.34477783e-04, 1.19785791e-04, 2.20002321e-05],\n",
    "       [0.00000000e+00, 0.00000000e+00, 0.00000000e+00, 0.00000000e+00],\n",
    "       [0.00000000e+00, 0.00000000e+00, 0.00000000e+00, 0.00000000e+00],\n",
    "       [2.69824686e-06, 1.45424353e-04, 1.83726986e-06, 1.65366233e-06],\n",
    "       [1.06495551e-04, 8.67665976e-05, 1.38515914e-04, 3.09110183e-03],\n",
    "       [4.38501834e-03, 1.75420965e-04, 1.30764285e-04, 1.39289655e-04],\n",
    "       [0.00000000e+00, 0.00000000e+00, 0.00000000e+00, 0.00000000e+00],\n",
    "       [2.81632482e-02, 3.05732099e-02, 4.10174211e-01, 3.42583645e-02],\n",
    "       [5.51883620e-04, 6.42132211e-05, 7.97660349e-05, 8.73733721e-05],\n",
    "       [0.00000000e+00, 0.00000000e+00, 0.00000000e+00, 0.00000000e+00],\n",
    "       [1.57372671e-05, 0.00000000e+00, 0.00000000e+00, 0.00000000e+00],\n",
    "       [1.47066684e-04, 0.00000000e+00, 0.00000000e+00, 0.00000000e+00],\n",
    "       [0.00000000e+00, 0.00000000e+00, 0.00000000e+00, 0.00000000e+00],\n",
    "       [2.88119234e-06, 2.96678053e-06, 4.55405035e-03, 0.00000000e+00],\n",
    "       [0.00000000e+00, 0.00000000e+00, 0.00000000e+00, 0.00000000e+00],\n",
    "       [9.17329824e-02, 1.08172437e-01, 7.93020092e-01, 5.80382519e-02],\n",
    "       [7.77985817e-05, 7.94751325e-05, 7.79131341e-05, 3.17606314e-04],\n",
    "       [2.31798596e-05, 2.00970007e-04, 2.41618448e-05, 0.00000000e+00],\n",
    "       [6.26418049e-05, 0.00000000e+00, 0.00000000e+00, 5.37827159e-06],\n",
    "       [0.00000000e+00, 0.00000000e+00, 0.00000000e+00, 0.00000000e+00],\n",
    "       [0.00000000e+00, 0.00000000e+00, 0.00000000e+00, 0.00000000e+00],\n",
    "       [2.71977395e-04, 6.27392590e-07, 0.00000000e+00, 9.85840965e-07],\n",
    "       [3.61151794e-06, 0.00000000e+00, 0.00000000e+00, 0.00000000e+00],\n",
    "       [0.00000000e+00, 0.00000000e+00, 0.00000000e+00, 0.00000000e+00]])\n"
   ]
  },
  {
   "cell_type": "markdown",
   "id": "46abda35-a219-468e-aa62-9de257371e06",
   "metadata": {},
   "source": [
    "## Be exhausted on hyper-parameter trails. 8x8 map results stop at about 50% success ratio."
   ]
  },
  {
   "cell_type": "code",
   "execution_count": null,
   "id": "e5bcb8bd-9422-4374-bf85-ffae530c134f",
   "metadata": {},
   "outputs": [],
   "source": []
  }
 ],
 "metadata": {
  "kernelspec": {
   "display_name": "Python 3 (ipykernel)",
   "language": "python",
   "name": "python3"
  },
  "language_info": {
   "codemirror_mode": {
    "name": "ipython",
    "version": 3
   },
   "file_extension": ".py",
   "mimetype": "text/x-python",
   "name": "python",
   "nbconvert_exporter": "python",
   "pygments_lexer": "ipython3",
   "version": "3.9.12"
  }
 },
 "nbformat": 4,
 "nbformat_minor": 5
}
